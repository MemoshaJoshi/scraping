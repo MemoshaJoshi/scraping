{
 "cells": [
  {
   "cell_type": "code",
   "execution_count": 93,
   "metadata": {},
   "outputs": [],
   "source": [
    "import requests\n",
    "from bs4 import BeautifulSoup\n",
    "from scrapingbee import ScrapingBeeClient\n",
    "import math\n",
    "import pandas as pd\n",
    "from datetime import datetime, timedelta\n"
   ]
  },
  {
   "cell_type": "code",
   "execution_count": 102,
   "metadata": {},
   "outputs": [],
   "source": [
    "def scrape_page(url):\n",
    "    client = ScrapingBeeClient(api_key='7RGXHBFZ5Z598EJFDXJT5F7JMXY15EGTQ2FSDKX53QL8Y8G8975BPAY1LT0EH86WRFI3WOOK75ILGQYE')\n",
    "    response = client.get(url)\n",
    "    soup = BeautifulSoup(response.content,'html.parser')\n",
    "    return soup"
   ]
  },
  {
   "cell_type": "code",
   "execution_count": 95,
   "metadata": {},
   "outputs": [],
   "source": [
    "def scrape_one_page(job_links):\n",
    "    data_list = []\n",
    "    \n",
    "    for job_list in job_links:\n",
    "        single_page_scrape = scrape_page(job_list)\n",
    "        #Job_Title\n",
    "        job_title = single_page_scrape.h2\n",
    "        if job_title is not None:\n",
    "            job_title = job_title.get_text('h2').strip()\n",
    "        else:\n",
    "            job_title = \" \"\n",
    "\n",
    "        #Job Url\n",
    "        job_url = job_list\n",
    "\n",
    "        #location\n",
    "        location = single_page_scrape.find('h6', {'class': 'location inline-block m-r-30 m-t-0'})\n",
    "        if location is not None:\n",
    "            location_txt = location.text.strip()\n",
    "        else:\n",
    "            location_txt = \" \"\n",
    "        \n",
    "        # posted\n",
    "\n",
    "        job_posted_time = None  # Initialize the variable with a default value\n",
    "        posted_element = single_page_scrape.find('h6', class_='semi-bold date-posted')\n",
    "\n",
    "        if posted_element is not None:\n",
    "            job_posted_time = posted_element.text.strip()\n",
    "        else:\n",
    "            job_posted_time = \"\"\n",
    "\n",
    "        # Define the date format\n",
    "        date_format = \"%Y-%m-%d\"\n",
    "\n",
    "        # Check if the time is given in days\n",
    "        if \"Posted days\" in job_posted_time:\n",
    "            # Subtract the corresponding number of days from the current date\n",
    "            job_posted_date = datetime.now() - timedelta(days=int(job_posted_time.split()[0]))\n",
    "            # Format the resulting date as a string\n",
    "            job_posted_dates = job_posted_date.strftime(date_format)\n",
    "        # Check if the time is given in hours\n",
    "        elif \"Posted hours\" in job_posted_time:\n",
    "            # Subtract the corresponding number of hours from the current date\n",
    "            job_posted_date = datetime.now() - timedelta(hours=int(job_posted_time.split()[0]))\n",
    "            # Format the resulting date as a string\n",
    "            job_posted_dates = job_posted_date.strftime(date_format)\n",
    "        # If the time is not given in days or hours, use the current date\n",
    "        else:\n",
    "            job_posted_dates = datetime.now()\n",
    "\n",
    "        # Print the formatted date\n",
    "        print(job_posted_dates)\n",
    "        \n",
    "        # description\n",
    "\n",
    "        # job_description = single_page_scrape.find(\"div\", class_=\"main-content\")\n",
    "        # description = job_description.find(\"div\", class_=\"job-description hidden-text shadow\")\n",
    "\n",
    "        # if description is not None:\n",
    "        #     description_txt = description.text.strip()\n",
    "        # else:\n",
    "        #     description_txt = \" \"\n",
    "\n",
    "        job_description = single_page_scrape.find(\"div\", class_=\"main-content\")\n",
    "        if job_description is not None:\n",
    "            description = job_description.find(\"div\", class_=\"job-description hidden-text shadow\")\n",
    "            if description is not None:\n",
    "                description_txt = description.text.strip()\n",
    "            else:\n",
    "                description_txt = \"\"\n",
    "        else:\n",
    "            description_txt = \"\"\n",
    "\n",
    "        data = {\n",
    "            'job_title':job_title,\n",
    "            'job_url':job_url,\n",
    "            'location':location_txt,\n",
    "            'posted':job_posted_dates,\n",
    "            'description':description_txt\n",
    "\n",
    "           \n",
    "        }\n",
    "        data_list.append(data)\n",
    "    print(data_list)\n",
    "    return data_list\n"
   ]
  },
  {
   "cell_type": "code",
   "execution_count": 104,
   "metadata": {},
   "outputs": [
    {
     "name": "stderr",
     "output_type": "stream",
     "text": [
      "/tmp/ipykernel_423207/3251863856.py:4: MarkupResemblesLocatorWarning: The input looks more like a filename than markup. You may want to open this file and pass the filehandle into Beautiful Soup.\n",
      "  soup = BeautifulSoup(response.content,'html.parser')\n"
     ]
    }
   ],
   "source": [
    "job_to_scrape = 'Data Engineer'\n",
    "l='Texas'\n",
    "distance = 10\n",
    "posted = \"1d\"\n",
    "scrape = scrape_page(f\"https://search.linkup.com/search/results/data-engineer-jobs-in-texas?pageNum=1&posted=7d\")\n",
    "\n",
    "\n",
    "roles = [\"Data engineer\", \"Machine Learning\"]"
   ]
  },
  {
   "cell_type": "code",
   "execution_count": null,
   "metadata": {},
   "outputs": [],
   "source": []
  },
  {
   "cell_type": "code",
   "execution_count": 97,
   "metadata": {},
   "outputs": [
    {
     "name": "stdout",
     "output_type": "stream",
     "text": [
      "1381\n"
     ]
    },
    {
     "data": {
      "text/plain": [
       "56"
      ]
     },
     "execution_count": 97,
     "metadata": {},
     "output_type": "execute_result"
    }
   ],
   "source": [
    "#To find page number\n",
    "search_details = scrape.find('div', {'class': 'search-details'})\n",
    "job_count_text = search_details.find('div').text.strip()\n",
    "job_count = int(job_count_text.split()[-2].replace(',', ''))\n",
    "page_number = math.ceil((job_count)/25)\n",
    "print(job_count)\n",
    "page_number\n"
   ]
  },
  {
   "cell_type": "code",
   "execution_count": 100,
   "metadata": {},
   "outputs": [
    {
     "name": "stdout",
     "output_type": "stream",
     "text": [
      "Page number 1\n"
     ]
    },
    {
     "name": "stderr",
     "output_type": "stream",
     "text": [
      "/tmp/ipykernel_423207/3251863856.py:4: MarkupResemblesLocatorWarning: The input looks more like a filename than markup. You may want to open this file and pass the filehandle into Beautiful Soup.\n",
      "  soup = BeautifulSoup(response.content,'html.parser')\n"
     ]
    },
    {
     "name": "stdout",
     "output_type": "stream",
     "text": [
      "[]\n",
      "Page number 2\n",
      "[]\n",
      "Page number 3\n",
      "[]\n"
     ]
    }
   ],
   "source": [
    "job_links = []\n",
    "i = 1\n",
    "\n",
    "for role in roles:\n",
    "\n",
    "\n",
    "    while i <= 3:\n",
    "        print('Page number', i)\n",
    "        scrape_result = scrape_page(f\"https://search.linkup.com/search/results/{role}-jobs-in-texas?pageNum={i}&posted=7d\")\n",
    "\n",
    "        for link in scrape_result.find_all('a', class_='organic-link search-result-link'):\n",
    "            x = \"https://search.linkup.com\"+link.get('href')\n",
    "            job_links.append(x)\n",
    "\n",
    "        # for j in range(len(job_links)):\n",
    "        #     job_links[j] = 'https://search.linkup.com' + job_links[j]\n",
    "\n",
    "        i = i + 1\n",
    "        print(job_links)\n"
   ]
  },
  {
   "cell_type": "code",
   "execution_count": 91,
   "metadata": {},
   "outputs": [
    {
     "name": "stdout",
     "output_type": "stream",
     "text": [
      "[]\n"
     ]
    }
   ],
   "source": [
    "page_data = scrape_one_page(job_links)"
   ]
  },
  {
   "cell_type": "code",
   "execution_count": 92,
   "metadata": {},
   "outputs": [
    {
     "data": {
      "text/html": [
       "<div>\n",
       "<style scoped>\n",
       "    .dataframe tbody tr th:only-of-type {\n",
       "        vertical-align: middle;\n",
       "    }\n",
       "\n",
       "    .dataframe tbody tr th {\n",
       "        vertical-align: top;\n",
       "    }\n",
       "\n",
       "    .dataframe thead th {\n",
       "        text-align: right;\n",
       "    }\n",
       "</style>\n",
       "<table border=\"1\" class=\"dataframe\">\n",
       "  <thead>\n",
       "    <tr style=\"text-align: right;\">\n",
       "      <th></th>\n",
       "    </tr>\n",
       "  </thead>\n",
       "  <tbody>\n",
       "  </tbody>\n",
       "</table>\n",
       "</div>"
      ],
      "text/plain": [
       "Empty DataFrame\n",
       "Columns: []\n",
       "Index: []"
      ]
     },
     "execution_count": 92,
     "metadata": {},
     "output_type": "execute_result"
    }
   ],
   "source": [
    "#Converting to dataframe\n",
    "df = pd.DataFrame(page_data)\n",
    "df.to_csv('linkup.csv',index=False)\n",
    "df"
   ]
  },
  {
   "cell_type": "code",
   "execution_count": 26,
   "metadata": {},
   "outputs": [],
   "source": [
    "# test_scrape = scrape_page(f\"https://search.linkup.com/details/d08c18ab807b3efe1f8def1ffc1d3909\")"
   ]
  },
  {
   "cell_type": "code",
   "execution_count": 27,
   "metadata": {},
   "outputs": [],
   "source": [
    "# import datetime\n",
    "\n",
    "# # Define the time elapsed since the job was posted\n",
    "# job_posted_time = \"2 days ago\"\n",
    "\n",
    "# # Define the date format\n",
    "# date_format = \"%Y-%m-%d\"\n",
    "\n",
    "# # Check if the time is given in days\n",
    "# if \"days\" in job_posted_time:\n",
    "#     # Subtract the corresponding number of days from the current date\n",
    "#     job_posted_date = datetime.datetime.now() - datetime.timedelta(days=int(job_posted_time.split()[0]))\n",
    "#     # Format the resulting date as a string\n",
    "#     job_posted_dates = job_posted_date.strftime(date_format)\n",
    "# # Check if the time is given in hours\n",
    "# elif \"hours\" in job_posted_time:\n",
    "#     # Subtract the corresponding number of hours from the current date\n",
    "#     job_posted_date = datetime.datetime.now() - datetime.timedelta(hours=int(job_posted_time.split()[0]))\n",
    "#     # Format the resulting date as a string\n",
    "#     job_posted_dates = job_posted_date.strftime(date_format)\n",
    "# # If the time is not given in days or hours, use the current date\n",
    "# else:\n",
    "#     job_posted_dates = datetime.datetime.now().strftime(date_format)\n",
    "\n",
    "# # Print the formatted date\n",
    "# print(job_posted_dates)"
   ]
  }
 ],
 "metadata": {
  "kernelspec": {
   "display_name": "scraping",
   "language": "python",
   "name": "python3"
  },
  "language_info": {
   "codemirror_mode": {
    "name": "ipython",
    "version": 3
   },
   "file_extension": ".py",
   "mimetype": "text/x-python",
   "name": "python",
   "nbconvert_exporter": "python",
   "pygments_lexer": "ipython3",
   "version": "3.10.6"
  },
  "orig_nbformat": 4
 },
 "nbformat": 4,
 "nbformat_minor": 2
}
